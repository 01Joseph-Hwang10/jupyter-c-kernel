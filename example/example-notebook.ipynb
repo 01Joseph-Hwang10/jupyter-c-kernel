{
    "cells": [
        {
            "attachments": {},
            "cell_type": "markdown",
            "metadata": {},
            "source": [
                "# Valid code"
            ]
        },
        {
            "cell_type": "code",
            "execution_count": 1,
            "metadata": {
                "vscode": {
                    "languageId": "c"
                }
            },
            "outputs": [
                {
                    "name": "stdout",
                    "output_type": "stream",
                    "text": [
                        "Hello world\n"
                    ]
                }
            ],
            "source": [
                "#include <stdio.h>\n",
                "\n",
                "int main() {\n",
                "    printf(\"Hello world\\n\");\n",
                "    return 0;\n",
                "}"
            ]
        },
        {
            "attachments": {},
            "cell_type": "markdown",
            "metadata": {},
            "source": [
                "# Including another file"
            ]
        },
        {
            "cell_type": "code",
            "execution_count": 2,
            "metadata": {
                "vscode": {
                    "languageId": "c"
                }
            },
            "outputs": [
                {
                    "name": "stdout",
                    "output_type": "stream",
                    "text": [
                        "Hello world\n",
                        "1 + 2 = 3"
                    ]
                }
            ],
            "source": [
                "#include <stdio.h>\n",
                "// Path is relative to current directory: example/test/add.h.\n",
                "// Keep in mind that c file and header file should be in a same level of directory.\n",
                "// Meaning that it's not allowed to have a header file in include directory and c file in src directory.\n",
                "// Instead, you should have both in the same directory.\n",
                "#include \"test/add.h\"\n",
                "\n",
                "int main() {\n",
                "    printf(\"Hello world\\n\");\n",
                "    int res = custom_add(1, 2);\n",
                "    printf(\"1 + 2 = %d\", res);\n",
                "    return 0;\n",
                "}\n"
            ]
        },
        {
            "cell_type": "markdown",
            "metadata": {},
            "source": [
                "But the kernel will also display compilations warnings and errors if we have some. Let's try to remove the `#include <stdio.h>` statement, which if necessary for `printf` to work."
            ]
        },
        {
            "cell_type": "markdown",
            "metadata": {},
            "source": [
                "# Code generating warnings during compilation"
            ]
        },
        {
            "cell_type": "code",
            "execution_count": 3,
            "metadata": {
                "vscode": {
                    "languageId": "c"
                }
            },
            "outputs": [
                {
                    "name": "stderr",
                    "output_type": "stream",
                    "text": [
                        "/var/folders/xf/sy2fwpl54bzcxvmkf38nzntw0000gn/T/tmpmo1_exme.c:2:5: error: implicitly declaring library function 'printf' with type 'int (const char *, ...)' [-Werror,-Wimplicit-function-declaration]\n",
                        "    printf(\"Hello world\\n\");\n",
                        "    ^\n",
                        "/var/folders/xf/sy2fwpl54bzcxvmkf38nzntw0000gn/T/tmpmo1_exme.c:2:5: note: include the header <stdio.h> or explicitly provide a declaration for 'printf'\n",
                        "1 error generated.\n",
                        "[C kernel] GCC exited with code 1, the executable will not be executed"
                    ]
                }
            ],
            "source": [
                "int main() {\n",
                "    printf(\"Hello world\\n\");\n",
                "}"
            ]
        },
        {
            "cell_type": "markdown",
            "metadata": {},
            "source": [
                "You can see that the warning are displayed, but the code is still executed."
            ]
        },
        {
            "cell_type": "markdown",
            "metadata": {},
            "source": [
                "# Code generating errors during compilation"
            ]
        },
        {
            "cell_type": "code",
            "execution_count": 4,
            "metadata": {
                "vscode": {
                    "languageId": "c"
                }
            },
            "outputs": [
                {
                    "name": "stderr",
                    "output_type": "stream",
                    "text": [
                        "/var/folders/xf/sy2fwpl54bzcxvmkf38nzntw0000gn/T/tmp5igitxty.c:2:5: error: implicitly declaring library function 'printf' with type 'int (const char *, ...)' [-Werror,-Wimplicit-function-declaration]\n",
                        "    printf(\"Hello world\")\n",
                        "    ^\n",
                        "/var/folders/xf/sy2fwpl54bzcxvmkf38nzntw0000gn/T/tmp5igitxty.c:2:5: note: include the header <stdio.h> or explicitly provide a declaration for 'printf'\n",
                        "/var/folders/xf/sy2fwpl54bzcxvmkf38nzntw0000gn/T/tmp5igitxty.c:2:26: error: expected ';' after expression\n",
                        "    printf(\"Hello world\")\n",
                        "                         ^\n",
                        "                         ;\n",
                        "2 errors generated.\n",
                        "[C kernel] GCC exited with code 1, the executable will not be executed"
                    ]
                }
            ],
            "source": [
                "int main() {\n",
                "    printf(\"Hello world\")\n",
                "}"
            ]
        },
        {
            "cell_type": "markdown",
            "metadata": {},
            "source": [
                "You can see that the errors and warnings are shown, but the code is not executed. The retcode is also added to the end of `stderr`"
            ]
        }
    ],
    "metadata": {
        "kernelspec": {
            "display_name": "C",
            "language": "c",
            "name": "c"
        },
        "language_info": {
            "file_extension": ".c",
            "mimetype": "text/x-csrc",
            "name": "text/x-csrc"
        }
    },
    "nbformat": 4,
    "nbformat_minor": 1
}
